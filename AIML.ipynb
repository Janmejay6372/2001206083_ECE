{
  "nbformat": 4,
  "nbformat_minor": 0,
  "metadata": {
    "colab": {
      "provenance": [],
      "authorship_tag": "ABX9TyO1Jr5Vw0vdf/vks91ZriHR",
      "include_colab_link": true
    },
    "kernelspec": {
      "name": "python3",
      "display_name": "Python 3"
    },
    "language_info": {
      "name": "python"
    }
  },
  "cells": [
    {
      "cell_type": "markdown",
      "metadata": {
        "id": "view-in-github",
        "colab_type": "text"
      },
      "source": [
        "<a href=\"https://colab.research.google.com/github/Janmejay6372/2001206083_ECE/blob/main/AIML.ipynb\" target=\"_parent\"><img src=\"https://colab.research.google.com/assets/colab-badge.svg\" alt=\"Open In Colab\"/></a>"
      ]
    },
    {
      "cell_type": "code",
      "execution_count": null,
      "metadata": {
        "colab": {
          "base_uri": "https://localhost:8080/"
        },
        "id": "GI0FSUGxorZT",
        "outputId": "ca605340-636a-4a7e-9f04-a264db2e32d3"
      },
      "outputs": [
        {
          "output_type": "stream",
          "name": "stdout",
          "text": [
            "HELLO ECE\n"
          ]
        }
      ],
      "source": [
        "print('HELLO ECE')"
      ]
    },
    {
      "cell_type": "code",
      "source": [
        "print('HELLO ABIT',end=' ')\n",
        "print('DEPT. of ECE')"
      ],
      "metadata": {
        "colab": {
          "base_uri": "https://localhost:8080/"
        },
        "id": "ZECzu3z3rSuC",
        "outputId": "a9ef183c-e2dc-4bc6-f3f9-131b51e4c265"
      },
      "execution_count": null,
      "outputs": [
        {
          "output_type": "stream",
          "name": "stdout",
          "text": [
            "HELLO ABIT DEPT. of ECE\n"
          ]
        }
      ]
    },
    {
      "cell_type": "code",
      "source": [
        "# Using of sep='' in print().\n",
        "a=7\n",
        "b=1\n",
        "c=2023\n",
        "print(a,b,c, sep='-')"
      ],
      "metadata": {
        "colab": {
          "base_uri": "https://localhost:8080/"
        },
        "id": "KUXV-hjksavP",
        "outputId": "4e484266-033e-4883-9b08-4a24b62f0824"
      },
      "execution_count": null,
      "outputs": [
        {
          "output_type": "stream",
          "name": "stdout",
          "text": [
            "7-1-2023\n"
          ]
        }
      ]
    },
    {
      "cell_type": "code",
      "source": [
        "x = 0b10100\n",
        "y = 100\n",
        "z = 0o215\n",
        "u = 0x12d\n",
        "#Float Literal\n",
        "float_1 = 100.5\n",
        "float_2 = 1.5e2\n",
        "#Complex Literal\n",
        "a = 5+3.14j\n",
        "print(x, y, z, u)\n",
        "print(float_1,float_2)\n",
        "print(a, a.imag, a.real)"
      ],
      "metadata": {
        "id": "Buz5vUSSu4zj",
        "outputId": "1232e0cf-eb90-455b-aea5-1b8c04f80744",
        "colab": {
          "base_uri": "https://localhost:8080/"
        }
      },
      "execution_count": 1,
      "outputs": [
        {
          "output_type": "stream",
          "name": "stdout",
          "text": [
            "20 100 141 301\n",
            "100.5 150.0\n",
            "(5+3.14j) 3.14 5.0\n"
          ]
        }
      ]
    },
    {
      "cell_type": "code",
      "source": [
        "a=23+5j\n",
        "b=2+5.12j\n",
        "c=a+b\n",
        "print(c)"
      ],
      "metadata": {
        "id": "vc2U6srKxjeG",
        "outputId": "4e8608dc-b3bc-4fa1-bb95-a982124f9550",
        "colab": {
          "base_uri": "https://localhost:8080/"
        }
      },
      "execution_count": 2,
      "outputs": [
        {
          "output_type": "stream",
          "name": "stdout",
          "text": [
            "(25+10.120000000000001j)\n"
          ]
        }
      ]
    },
    {
      "cell_type": "code",
      "source": [
        "a=input('Enter 1st no =')\n",
        "b=input('Enter 2nd no =')\n",
        "c=a+b\n",
        "print('c =',c)"
      ],
      "metadata": {
        "id": "N8XwoKScyZTz",
        "outputId": "20c83458-95ab-4295-f7db-9078972d9325",
        "colab": {
          "base_uri": "https://localhost:8080/"
        }
      },
      "execution_count": 5,
      "outputs": [
        {
          "output_type": "stream",
          "name": "stdout",
          "text": [
            "Enter 1st no =23\n",
            "Enter 2nd no =34\n",
            "c = 2334\n"
          ]
        }
      ]
    },
    {
      "cell_type": "code",
      "source": [],
      "metadata": {
        "id": "nLpMZjhJ0jC_"
      },
      "execution_count": null,
      "outputs": []
    },
    {
      "cell_type": "code",
      "source": [
        "# Using of /,// and ** in Arithmetic Operator\n",
        "a=2 \n",
        "b=4 \n",
        "c=a/b\n",
        "print(c)\n",
        "d=a//b\n",
        "print(d)\n",
        "e=a**b\n",
        "print(e)"
      ],
      "metadata": {
        "id": "rDKKHOuQztMf",
        "outputId": "e9e8cae8-79af-4aeb-90f0-b8747b48615f",
        "colab": {
          "base_uri": "https://localhost:8080/"
        }
      },
      "execution_count": 6,
      "outputs": [
        {
          "output_type": "stream",
          "name": "stdout",
          "text": [
            "0.5\n",
            "0\n",
            "16\n"
          ]
        }
      ]
    },
    {
      "cell_type": "code",
      "source": [],
      "metadata": {
        "id": "EKGQlCCi1WEr"
      },
      "execution_count": null,
      "outputs": []
    }
  ]
}